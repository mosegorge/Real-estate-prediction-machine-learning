{
 "cells": [
  {
   "cell_type": "markdown",
   "metadata": {},
   "source": [
    "##  cleaning apartments posts for rent\n"
   ]
  },
  {
   "cell_type": "code",
   "execution_count": 1,
   "metadata": {},
   "outputs": [],
   "source": [
    "import pandas as pd\n",
    "import numpy as np\n",
    "import re\n",
    "\n",
    "from IPython.display import Image, display #for tree plot \n",
    "import pydotplus \n",
    "from scipy import misc\n",
    "\n",
    "import seaborn as sns\n",
    "import matplotlib as mpl\n",
    "from matplotlib import pyplot as plt\n",
    "%matplotlib inline\n",
    "plt.rcParams['figure.figsize'] = (10, 6)"
   ]
  },
  {
   "cell_type": "markdown",
   "metadata": {},
   "source": [
    "### import data set "
   ]
  },
  {
   "cell_type": "code",
   "execution_count": 2,
   "metadata": {},
   "outputs": [],
   "source": [
    "df=pd.read_csv('PATH TO FILE HERE',sep=',',low_memory=False)"
   ]
  },
  {
   "cell_type": "code",
   "execution_count": 3,
   "metadata": {},
   "outputs": [
    {
     "data": {
      "text/plain": [
       "(699160, 48)"
      ]
     },
     "execution_count": 3,
     "metadata": {},
     "output_type": "execute_result"
    }
   ],
   "source": [
    "df.shape"
   ]
  },
  {
   "cell_type": "markdown",
   "metadata": {},
   "source": [
    "### clean nans and drop undesire columns"
   ]
  },
  {
   "cell_type": "code",
   "execution_count": 4,
   "metadata": {},
   ,
   "source": [
    "#drop nans(more then 40%)\n",
    "df_cln=df.drop(df.loc[:,list((100*(df.isnull().sum()/len(df.index))>40))].columns, 1)\n",
    "#drop unwanted cols \n",
    "cols=[0,1,2,3,7,10,13,16,23,24,25,27,28]\n",
    "df_cln.drop(df_cln.columns[[cols]], axis = 1, inplace=True)"
   ]
  },
  {
   "cell_type": "code",
   "execution_count": 5,
   "metadata": {},
   "outputs": [],
   "source": [
    "#replacing and renaming some cols\n",
    "repc=df_cln.pop('price')\n",
    "df_cln['price']=repc"
   ]
  },
  {
   "cell_type": "code",
   "execution_count": 6,
   "metadata": {},
   "outputs": [],
   "source": [
    "#drop rows with nans in important cols\n",
    "df_cln.dropna(subset=['property_type','rooms','post_updated_date','city','price','floor'],axis=0,inplace=True)"
   ]
  },
  {
   "cell_type": "markdown",
   "metadata": {},
   "source": [
    "### fixing data types"
   ]
  },
  {
   "cell_type": "code",
   "execution_count": 7,
   "metadata": {
    "scrolled": true
   },
   "outputs": [],
   "source": [
    "#fill nans and changing data types\n",
    "df_cln['sub_area'].fillna('לא צוין',inplace=True)\n",
    "df_cln['street'].fillna('לא צוין',inplace=True)\n",
    "\n",
    "df_cln['rooms'] = pd.to_numeric(df_cln['rooms'], errors='coerce').fillna(0).astype(float)\n",
    "df_cln['floor'] = pd.to_numeric(df_cln['floor'], errors='coerce').astype(float)\n",
    "df_cln['price'] = pd.to_numeric(df_cln['price'], errors='coerce').astype(np.int64)\n",
    "\n",
    "df_cln['elevator'].replace(to_replace ='לא', value = 0, regex = True,inplace=True)\n",
    "df_cln['elevator'].replace(to_replace=r'\\w*',value=1,regex=True,inplace=True)\n",
    "df_cln['elevator'] = pd.to_numeric(df_cln['elevator'], errors='coerce').fillna(0).astype(np.int64)\n",
    "\n",
    "df_cln['parking'].replace(to_replace ='אין', value = 0, regex = True,inplace=True)\n",
    "df_cln['parking'].replace(to_replace=r'\\w*',value=1,regex=True,inplace=True)\n",
    "df_cln['parking'] = pd.to_numeric(df_cln['parking'], errors='coerce').fillna(0).astype(np.int64)\n",
    "\n",
    "df_cln['conditioner'].replace(to_replace ='אין', value = 0, regex = True,inplace=True)\n",
    "df_cln['conditioner'].replace(to_replace=r'\\w*',value=1,regex=True,inplace=True)\n",
    "df_cln['conditioner'] = pd.to_numeric(df_cln['conditioner'], errors='coerce').fillna(0).astype(np.int64)\n",
    "\n",
    "df_cln['renovated'] = np.where(df_cln['renovated']==True, 1, 0)\n",
    "df_cln['renovated'] = pd.to_numeric(df_cln['renovated'], errors='coerce').fillna(0).astype(np.int64)\n",
    "\n",
    "df_cln['window_borders'] = np.where(df_cln['window_borders']==True, 1, 0)\n",
    "df_cln['window_borders'] = pd.to_numeric(df_cln['window_borders'], errors='coerce').astype(np.int64)\n",
    "\n",
    "df_cln['sun_boiler'] = np.where(df_cln['sun_boiler']==True, 1, 0)\n",
    "df_cln['sun_boiler'] = pd.to_numeric(df_cln['sun_boiler'], errors='coerce').astype(np.int64)\n",
    "\n",
    "df_cln['bomb_shelter'] = np.where(df_cln['bomb_shelter']==True, 1, 0)\n",
    "df_cln['bomb_shelter'] = pd.to_numeric(df_cln['bomb_shelter'], errors='coerce').astype(np.int64)\n",
    "\n",
    "df_cln['storeroom'] = np.where(df_cln['storeroom']==True, 1, 0)\n",
    "df_cln['storeroom'] = pd.to_numeric(df_cln['storeroom'], errors='coerce').astype(np.int64)\n",
    "\n",
    "df_cln['post_updated_date'] = pd.to_datetime(df_cln['post_updated_date'],dayfirst=True)\n",
    "df_cln['post_updated_date'] = df_cln['post_updated_date'].dt.date\n",
    "df_cln['post_updated_date'] = pd.to_datetime(df_cln['post_updated_date'],dayfirst=True)"
   ]
  },
  {
   "cell_type": "code",
   "execution_count": 8,
   "metadata": {},
   "outputs": [
    {
     "data": {
      "text/plain": [
       "property_type        0\n",
       "rooms                0\n",
       "city                 0\n",
       "sub_area             0\n",
       "street               0\n",
       "floor                0\n",
       "elevator             0\n",
       "parking              0\n",
       "conditioner          0\n",
       "renovated            0\n",
       "window_borders       0\n",
       "sun_boiler           0\n",
       "bomb_shelter         0\n",
       "storeroom            0\n",
       "post_updated_date    0\n",
       "price                0\n",
       "dtype: int64"
      ]
     },
     "execution_count": 8,
     "metadata": {},
     "output_type": "execute_result"
    }
   ],
   "source": [
    "df_cln.isna().sum()\n",
    "#df_cln.dtypes"
   ]
  },
  {
   "cell_type": "code",
   "execution_count": 9,
   "metadata": {},
   "outputs": [
    {
     "data": {
      "text/plain": [
       "2020-01-11    6633\n",
       "2020-01-10    3213\n",
       "2020-01-05    1693\n",
       "2019-09-01    1337\n",
       "2020-01-01    1198\n",
       "              ... \n",
       "2016-04-28      18\n",
       "2015-01-16      17\n",
       "2017-09-20      10\n",
       "2015-12-04       7\n",
       "2017-07-14       4\n",
       "Name: post_updated_date, Length: 1969, dtype: int64"
      ]
     },
     "execution_count": 9,
     "metadata": {},
     "output_type": "execute_result"
    }
   ],
   "source": [
    "df_cln['post_updated_date'].value_counts()"
   ]
  },
  {
   "cell_type": "code",
   "execution_count": 10,
   "metadata": {},
   "outputs": [
    {
     "data": {
      "text/plain": [
       "(631880, 16)"
      ]
     },
     "execution_count": 10,
     "metadata": {},
     "output_type": "execute_result"
    }
   ],
   "source": [
    "df_cln.shape"
   ]
  },
  {
   "cell_type": "markdown",
   "metadata": {},
   "source": [
    " ### outliers"
   ]
  },
  {
   "cell_type": "code",
   "execution_count": 11,
   "metadata": {}
    }
   ],
   "source": [
    "#fix outliers of discrete variables\n",
    "df_cln=df_cln[df_cln['rooms']<=15]\n",
    "df_cln=df_cln[df_cln['rooms']>0]\n",
    "df_cln=df_cln[df_cln['floor']<35]\n",
    "df_cln=df_cln[df_cln['price']>500]\n",
    "df_cln=df_cln[df_cln['price']<40000]\n",
    "df_cln['city'].loc[df_cln.city.str.contains('ראשלצ',na=False)] = 'ראשון לציון'\n",
    "df_cln['city'].loc[df_cln.city.str.contains('תל אביב',na=False)]='תל אביב יפו'"
   ]
  },
  {
   "cell_type": "code",
   "execution_count": 12,
   "metadata": {},
   "outputs": [],
   "source": [
    "#check outliers for price(continuous var)\n",
    "\n",
    "#out_fig= plt.figure(figsize=(13, 5))\n",
    "#sns.boxplot(df_cln.price)\n",
    "Q1 = np.percentile(df_cln['price'], 25)\n",
    "Q3 = np.percentile(df_cln['price'], 75)\n",
    "IQR = Q3-Q1\n",
    "price_outlier_rows = df_cln[(df_cln['price'] < Q1 - 1.5*IQR) | (df_cln['price'] > Q3 + 1.5*IQR)].index\n",
    "len(price_outlier_rows)#amount of outliers\n",
    "\n",
    "df_cln['price'].loc[price_outlier_rows]=np.nan\n",
    "df_cln.dropna(subset=['price'],axis=0,inplace=True)"
   ]
  },
  {
   "cell_type": "code",
   "execution_count": 13,
   "metadata": {
    "scrolled": true
   },
   "outputs": [
    {
     "data": {
      "text/plain": [
       "(602884, 16)"
      ]
     },
     "execution_count": 13,
     "metadata": {},
     "output_type": "execute_result"
    }
   ],
   "source": [
    "df_cln.shape"
   ]
  },
  {
   "cell_type": "markdown",
   "metadata": {},
   "source": [
    "### fixing categorical features"
   ]
  },
  {
   "cell_type": "code",
   "execution_count": 14,
   "metadata": {},
   "outputs": [],
   "source": [
    "#property type\n",
    "df_cln['property_type'].loc[df_cln.property_type.str.contains('דירת גן|גן',na=False)] = 'דירת גן'\n",
    "df_cln['property_type'].loc[df_cln.property_type.str.contains('פנטהאוס|גג|מיני פנט',na=False)] = 'גג/פנטהאוס'\n",
    "df_cln['property_type'].loc[df_cln.property_type.str.contains('מרתף|דיור',na=False)] = 'יחידת דיור'\n",
    "df_cln['property_type'].loc[df_cln.property_type.str.contains('קוטג|וילה|משק|נחלה',na=False)] = 'נחלה/פרטי/קוטג'\n",
    "df_cln['property_type'].loc[df_cln.property_type.str.contains('לופט|סטודיו',na=False)] = 'סטודיו/לופט'\n",
    "df_cln['property_type'].loc[df_cln.property_type.str.contains('דו|טריפלקס|בית|דופלקס|מחולקת',na=False)] = 'דירה/דופלקס/טריפלקס'\n",
    "df_cln['property_type'].replace([' דירה'],['דירה/דופלקס/טריפלקס'],inplace=True)"
   ]
  },
  {
   "cell_type": "code",
   "execution_count": 15,
   "metadata": {},
   "outputs": [
    {
     "data": {
      "text/plain": [
       "array(['יחידת דיור', 'דירה/דופלקס/טריפלקס', 'דירת גן', 'סטודיו/לופט',\n",
       "       'גג/פנטהאוס', 'נחלה/פרטי/קוטג'], dtype=object)"
      ]
     },
     "execution_count": 15,
     "metadata": {},
     "output_type": "execute_result"
    }
   ],
   "source": [
    "df_cln['property_type'].unique()"
   ]
  },
  {
   "cell_type": "markdown",
   "metadata": {},
   "source": [
    "**Combine similer strings of city col**"
   ]
  },
  {
   "cell_type": "code",
   "execution_count": 16,
   "metadata": {},
   "outputs": [],
   "source": [
    "from sklearn.feature_extraction.text import TfidfVectorizer\n",
    "from sparse_dot_topn import awesome_cossim_topn\n",
    "\n",
    "group_lookup = {}\n",
    "\n",
    "# Write a function for cleaning strings and returning an array of ngrams\n",
    "def ngrams_analyzer(string):\n",
    "    string = re.sub(r'[“׳¨,-./]', r'', string)\n",
    "    ngrams = zip(*[string[i:] for i in range(4)])  # N-Gram length is 5\n",
    "    return [''.join(ngram) for ngram in ngrams]\n",
    "\n",
    "def find_group(row, col):\n",
    "    if row in group_lookup:\n",
    "        return group_lookup[row]\n",
    "    elif col in group_lookup:\n",
    "        return group_lookup[col]\n",
    "    else:\n",
    "        return None\n",
    "\n",
    "def add_vals_to_lookup(group, row, col):\n",
    "    group_lookup[row] = group\n",
    "    group_lookup[col] = group\n",
    "\n",
    "def add_pair_to_lookup(row, col):\n",
    "    group = find_group(row, col)\n",
    "    if group is not None:\n",
    "        add_vals_to_lookup(group, row, col)\n",
    "    else:\n",
    "        add_vals_to_lookup(row, row, col)\n",
    "        \n",
    "# Construct vectorizer for building the TF-IDF matrix\n",
    "vectorizer = TfidfVectorizer(analyzer=ngrams_analyzer)\n",
    "\n",
    "vals = df_cln['city'].unique().astype('U')\n",
    "\n",
    "# Build matrix\n",
    "tf_idf_matrix = vectorizer.fit_transform(vals)\n",
    "\n",
    "cosine_matrix = awesome_cossim_topn(tf_idf_matrix, tf_idf_matrix.transpose(), vals.size, 0.6)\n",
    "\n",
    "# Build a coordinate matrix\n",
    "coo_matrix = cosine_matrix.tocoo()\n",
    "\n",
    "for row, col in zip(coo_matrix.row, coo_matrix.col):\n",
    "    if row != col:\n",
    "        add_pair_to_lookup(vals[row], vals[col])\n",
    "\n",
    "df_cln['city']= df_cln['city'].map(group_lookup).fillna(df_cln['city'])"
   ]
  },
  {
   "cell_type": "code",
   "execution_count": 17,
   "metadata": {},
   "outputs": [],
   "source": [
    "#clean less common cities (less than 100)\n",
    "temp=df_cln['city'].value_counts()\n",
    "val_to_keep=temp.loc[temp>=100]\n",
    "df_cln= df_cln[df_cln['city'].isin(val_to_keep.index.tolist())]"
   ]
  },
  {
   "cell_type": "code",
   "execution_count": 18,
   "metadata": {},
   "outputs": [
    {
     "data": {
      "text/plain": [
       "תל אביב יפו    66545\n",
       "ירושלים        52481\n",
       "רמת גן         27045\n",
       "פתח תקוה       26688\n",
       "באר שבע        26360\n",
       "               ...  \n",
       "כפר יחזקאל       106\n",
       "בית הלל          104\n",
       "קדמת צבי         103\n",
       "סביון            101\n",
       "עין יעקב         100\n",
       "Name: city, Length: 167, dtype: int64"
      ]
     },
     "execution_count": 18,
     "metadata": {},
     "output_type": "execute_result"
    }
   ],
   "source": [
    "df_cln['city'].value_counts()"
   ]
  },
  {
   "cell_type": "code",
   "execution_count": 19,
   "metadata": {},
   "outputs": [
    {
     "data": {
      "text/plain": [
       "(591356, 16)"
      ]
     },
     "execution_count": 19,
     "metadata": {},
     "output_type": "execute_result"
    }
   ],
   "source": [
    "df_cln.shape"
   ]
  },
  {
   "cell_type": "code",
   "execution_count": 37,
   "metadata": {},
   "outputs": [],
   "source": [
    "df_cln.to_csv('rent_clean.csv')"
   ]
  }
 ],
 "metadata": {
  "kernelspec": {
   "display_name": "Python 3",
   "language": "python",
   "name": "python3"
  },
  "language_info": {
   "codemirror_mode": {
    "name": "ipython",
    "version": 3
   },
   "file_extension": ".py",
   "mimetype": "text/x-python",
   "name": "python",
   "nbconvert_exporter": "python",
   "pygments_lexer": "ipython3",
   "version": "3.7.4"
  }
 },
 "nbformat": 4,
 "nbformat_minor": 2
}
