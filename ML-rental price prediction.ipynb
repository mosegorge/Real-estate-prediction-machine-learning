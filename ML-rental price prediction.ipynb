{
 "cells": [
  {
   "cell_type": "code",
   "execution_count": 3,
   "metadata": {},
   "outputs": [],
   "source": [
    "import pandas as pd\n",
    "import scipy as sc\n",
    "import numpy as np\n",
    "\n",
    "from sklearn.preprocessing import StandardScaler\n",
    "from sklearn.preprocessing import scale\n",
    "from sklearn.preprocessing import LabelEncoder\n",
    "from sklearn.model_selection import train_test_split\n",
    "\n",
    "from sklearn.linear_model import LinearRegression\n",
    "from sklearn.linear_model import Lasso\n",
    "from sklearn.ensemble import RandomForestRegressor\n",
    "\n",
    "from sklearn.metrics import r2_score\n",
    "\n",
    "import plotly.express as px\n",
    "import plotly.graph_objects as go\n",
    "import plotly.io as pio\n",
    "import seaborn as sns\n",
    "import matplotlib as mpl\n",
    "from matplotlib import pyplot as plt\n",
    "%matplotlib inline\n",
    "import warnings\n",
    "warnings.filterwarnings(\"ignore\")\n",
    "\n",
    "from sklearn.externals.joblib import dump, load\n",
    "import pickle\n",
    "#open a folder for app files\n",
    "import os\n",
    "if not os.path.exists(\"rentwebapp\"):\n",
    "    os.mkdir(\"rentwebapp\")"
   ]
  },
  {
   "cell_type": "markdown",
   "metadata": {},
   "source": [
    "### import rent df"
   ]
  },
  {
   "cell_type": "code",
   "execution_count": 2,
   "metadata": {},
   "outputs": [],
   "source": [
    "rent_df=pd.read_csv(r'C:\\Users\\moshi\\Downloads\\notebooks\\Project\\2.Data cleaning\\rent_clean.csv',sep=',',low_memory=False)"
   ]
  },
  {
   "cell_type": "code",
   "execution_count": 3,
   "metadata": {},
   "outputs": [],
   "source": [
    "##dropping unwanted cols for the ml \n",
    "rent_df=rent_df.drop([\"Unnamed: 0\",\"sub_area\",'street','post_updated_date'], axis=1)"
   ]
  },
  {
   "cell_type": "markdown",
   "metadata": {},
   "source": [
    "## Linear Regression model"
   ]
  },
  {
   "cell_type": "code",
   "execution_count": 4,
   "metadata": {},
   "outputs": [],
   "source": [
    "X =rent_df.drop(['price'],axis=1)\n",
    "y =rent_df['price']"
   ]
  },
  {
   "cell_type": "markdown",
   "metadata": {},
   "source": [
    "### Label encoding and feature scaling"
   ]
  },
  {
   "cell_type": "code",
   "execution_count": 5,
   "metadata": {},
   "outputs": [],
   "source": [
    "X = X.apply(LabelEncoder().fit_transform)"
   ]
  },
  {
   "cell_type": "code",
   "execution_count": 6,
   "metadata": {},
   "outputs": [],
   "source": [
    "cols=X.columns.tolist()\n",
    "for i in range(0, len(cols)):\n",
    "    X[cols[i]] = scale(X[cols[i]])"
   ]
  },
  {
   "cell_type": "markdown",
   "metadata": {},
   "source": [
    "### Modeling and scores"
   ]
  },
  {
   "cell_type": "code",
   "execution_count": 7,
   "metadata": {},
   "outputs": [],
   "source": [
    "X_train, X_test, y_train, y_test = train_test_split(X, y, random_state=42)"
   ]
  },
  {
   "cell_type": "code",
   "execution_count": 8,
   "metadata": {},
   "outputs": [],
   "source": [
    "linear_model = LinearRegression()\n",
    "\n",
    "linear_model.fit(X_train,y_train)\n",
    "\n",
    "y_pred = linear_model.predict(X_test)\n",
    "y_train_pred = linear_model.predict(X_train)"
   ]
  },
  {
   "cell_type": "code",
   "execution_count": 9,
   "metadata": {
    "scrolled": false
   },
   "outputs": [
    {
     "name": "stdout",
     "output_type": "stream",
     "text": [
      "r2 score with LinearRegression model\n",
      "Accuracy on training data:  0.36658969421250776\n",
      "Accuracy on test data:  0.36854194069939394\n"
     ]
    }
   ],
   "source": [
    "print(\"r2 score with LinearRegression model\")\n",
    "print(\"Accuracy on training data: \" , r2_score(y_train, y_train_pred))\n",
    "print(\"Accuracy on test data: \", r2_score(y_test, y_pred))"
   ]
  },
  {
   "cell_type": "markdown",
   "metadata": {},
   "source": [
    "## Lasso model"
   ]
  },
  {
   "cell_type": "markdown",
   "metadata": {},
   "source": [
    "### label encoding and scaling for categorial featurs"
   ]
  },
  {
   "cell_type": "code",
   "execution_count": 10,
   "metadata": {},
   "outputs": [],
   "source": [
    "featurs =rent_df.drop(['price'],axis=1)"
   ]
  },
  {
   "cell_type": "code",
   "execution_count": 11,
   "metadata": {},
   "outputs": [],
   "source": [
    "##create dummies and combine \n",
    "combine_dummies = pd.get_dummies(featurs)\n",
    "result = combine_dummies.values"
   ]
  },
  {
   "cell_type": "code",
   "execution_count": 12,
   "metadata": {},
   "outputs": [],
   "source": [
    "scaler = StandardScaler()\n",
    "result = scaler.fit_transform(result)"
   ]
  },
  {
   "cell_type": "code",
   "execution_count": 13,
   "metadata": {},
   "outputs": [],
   "source": [
    "X= result[:rent_df.shape[0]]\n",
    "y=rent_df['price'].values"
   ]
  },
  {
   "cell_type": "markdown",
   "metadata": {},
   "source": [
    "### Modeling and scores"
   ]
  },
  {
   "cell_type": "code",
   "execution_count": 14,
   "metadata": {},
   "outputs": [],
   "source": [
    "X_train, X_test, y_train, y_test = train_test_split(X, y, random_state=42)"
   ]
  },
  {
   "cell_type": "code",
   "execution_count": 15,
   "metadata": {},
   "outputs": [],
   "source": [
    "lasso_model= Lasso()\n",
    "\n",
    "lasso_model.fit(X_train, y_train)\n",
    "\n",
    "y_pred = lasso_model.predict(X_test)\n",
    "y_train_pred = lasso_model.predict(X_train)"
   ]
  },
  {
   "cell_type": "code",
   "execution_count": 16,
   "metadata": {
    "scrolled": true
   },
   "outputs": [
    {
     "name": "stdout",
     "output_type": "stream",
     "text": [
      "r2 score with Lasso model\n",
      "Accuracy on training data:  0.677749765764358\n",
      "Accuracy on test data:  0.6796979702371588\n"
     ]
    }
   ],
   "source": [
    "print(\"r2 score with Lasso model\")\n",
    "print(\"Accuracy on training data: \" , r2_score(y_train, y_train_pred))\n",
    "print(\"Accuracy on test data: \", r2_score(y_test, y_pred))"
   ]
  },
  {
   "cell_type": "markdown",
   "metadata": {},
   "source": [
    "## Rendom Forest Regressor"
   ]
  },
  {
   "cell_type": "markdown",
   "metadata": {},
   "source": [
    "### Encoding categorial values"
   ]
  },
  {
   "cell_type": "code",
   "execution_count": 7,
   "metadata": {},
   "outputs": [],
   "source": [
    "featurs=rent_df.drop(['price'],axis=1)\n",
    "categ_col = [\"property_type\", \"city\"]\n",
    "featurs_dum = pd.get_dummies(featurs, columns=categ_col)\n",
    "result=featurs_dum.values"
   ]
  },
  {
   "cell_type": "markdown",
   "metadata": {},
   "source": [
    "### Scaling"
   ]
  },
  {
   "cell_type": "code",
   "execution_count": 8,
   "metadata": {},
   "outputs": [],
   "source": [
    "scaler = StandardScaler()\n",
    "origin_scale_rf=StandardScaler().fit(result)\n",
    "result = scaler.fit_transform(result)"
   ]
  },
  {
   "cell_type": "code",
   "execution_count": 9,
   "metadata": {},
   "outputs": [],
   "source": [
    "X=result[:rent_df.shape[0]]\n",
    "y=rent_df['price'].values"
   ]
  },
  {
   "cell_type": "markdown",
   "metadata": {},
   "source": [
    "### Hyperparameter tuning"
   ]
  },
  {
   "cell_type": "code",
   "execution_count": null,
   "metadata": {},
   "outputs": [],
   "source": [
    "from sklearn.model_selection import GridSearchCV\n",
    "\n",
    "param_grid = {\n",
    "    'bootstrap': [True],\n",
    "    'max_depth': [10, 20, 40, 70],\n",
    "    'max_features': ['auto'],\n",
    "    'min_samples_leaf': [2, 4],\n",
    "    'min_samples_split': [2, 4],\n",
    "    'n_estimators': [100, 150, 300, 600]\n",
    "    }\n",
    "rf = RandomForestRegressor()\n",
    "grid_search = GridSearchCV(estimator = rf, param_grid = param_grid, \n",
    "                          cv = 3, n_jobs = -1, verbose = 2)\n",
    "grid_search.fit(X_train,y_train)\n",
    "\n",
    "##grid_search.best_params_ result\n",
    "#   {'bootstrap': True,\n",
    "#    'max_depth': 90,\n",
    "#    'max_features': 'auto',\n",
    "#    'min_samples_leaf': 2,\n",
    "#    'min_samples_split': 2,\n",
    "#    'n_estimators': 400}"
   ]
  },
  {
   "cell_type": "markdown",
   "metadata": {},
   "source": [
    "### Modeling and scores"
   ]
  },
  {
   "cell_type": "code",
   "execution_count": 10,
   "metadata": {},
   "outputs": [],
   "source": [
    "X_train, X_test, y_train, y_test = train_test_split(X, y, random_state=42)"
   ]
  },
  {
   "cell_type": "code",
   "execution_count": 11,
   "metadata": {},
   "outputs": [
    {
     "name": "stdout",
     "output_type": "stream",
     "text": [
      "r2 score with RendomForestReg model\n",
      "Accuracy on training data:  0.7477783344159517\n",
      "Accuracy on test data:  0.7136565749340338\n"
     ]
    }
   ],
   "source": [
    "#rf_model=grid_search.best_estimator_\n",
    "rf_model=RandomForestRegressor(bootstrap= True,max_depth=50,max_features=16,min_samples_leaf=2,min_samples_split= 2,n_estimators=400)\n",
    "rf_model.fit(X_train,y_train)\n",
    "\n",
    "y_pred = rf_model.predict(X_test)\n",
    "y_train_pred = rf_model.predict(X_train)\n",
    "\n",
    "print(\"r2 score with RendomForestReg model\")\n",
    "print(\"Accuracy on training data: \" , r2_score(y_train, y_train_pred))\n",
    "print(\"Accuracy on test data: \", r2_score(y_test, y_pred))"
   ]
  },
  {
   "cell_type": "markdown",
   "metadata": {},
   "source": [
    "### add predicted prices to original df"
   ]
  },
  {
   "cell_type": "code",
   "execution_count": null,
   "metadata": {},
   "outputs": [],
   "source": [
    "final_labels = rf_model.predict(X)\n",
    "final_result = pd.DataFrame({'RentPrice': final_labels})"
   ]
  },
  {
   "cell_type": "code",
   "execution_count": 16,
   "metadata": {},
   "outputs": [],
   "source": [
    "rent_df[\"predicted price\"]=final_result['RentPrice']"
   ]
  },
  {
   "cell_type": "code",
   "execution_count": 17,
   "metadata": {
    "scrolled": true
   },
   "outputs": [
    {
     "name": "stdout",
     "output_type": "stream",
     "text": [
      "True prices average: 3799.63\n",
      "Predicted prices average: 3800.02\n"
     ]
    }
   ],
   "source": [
    "price_avg=rent_df[\"price\"].mean()\n",
    "pred_price_avg=rent_df[\"predicted price\"].mean()\n",
    "\n",
    "print(\"True prices average:\",round(price_avg,2))\n",
    "print(\"Predicted prices average:\",round(pred_price_avg,2))"
   ]
  },
  {
   "cell_type": "markdown",
   "metadata": {},
   "source": [
    "### web app"
   ]
  },
  {
   "cell_type": "code",
   "execution_count": 21,
   "metadata": {
    "scrolled": true
   },
   "outputs": [],
   "source": [
    "#saving nessecry files for app\n",
    "pickle.dump(rf_model,open(\"rentwebapp/model_new.pickle\", 'wb'))\n",
    "\n",
    "dump(origin_scale_rf, 'rentwebapp/std_scaler.bin', compress=True)\n",
    "\n",
    "tmpdummies=featurs_dum[:1]\n",
    "tmpdummies.to_csv('rentwebapp\\dum_col.csv', index = False)"
   ]
  },
  {
   "cell_type": "code",
   "execution_count": 1,
   "metadata": {
    "scrolled": true
   },
   "outputs": [
    {
     "name": "stdout",
     "output_type": "stream",
     "text": [
      "Connecting to wss://anvil.works/uplink\n",
      "Anvil websocket open\n",
      "Authenticated OK\n"
     ]
    }
   ],
   "source": [
    "#connect to server\n",
    "import anvil.server\n",
    "\n",
    "anvil.server.connect(\"T3Y2KBBTL6NAII3JKFTCI5ND-FGSMEQH23K7FJACC\")"
   ]
  },
  {
   "cell_type": "code",
   "execution_count": 4,
   "metadata": {},
   "outputs": [],
   "source": [
    "@anvil.server.callable\n",
    "def predict_rent(property_type,rooms,city,floor,elevator,parking,conditioner,renovated,window_borders,sun_boiler,bomb_shelter,storeroom):\n",
    "    tmpdf={\"property_type\":property_type,\n",
    "           \"rooms\":rooms,\n",
    "           \"city\":city,\n",
    "           \"floor\":floor,\n",
    "           \"elevator\":int(elevator),\n",
    "           \"parking\":int(parking),\n",
    "           \"conditioner\":int(conditioner),\n",
    "           \"renovated\":int(renovated),\n",
    "           \"window_borders\":int(window_borders),\n",
    "           \"sun_boiler\":int(sun_boiler),\n",
    "           \"bomb_shelter\":int(bomb_shelter),\n",
    "           \"storeroom\":int(storeroom)\n",
    "          }\n",
    "    tmpdf=pd.DataFrame(tmpdf, index=[0])\n",
    "    \n",
    "    dummy_new = pd.get_dummies(tmpdf)\n",
    "    dum_col=pd.read_csv('rentwebapp\\dum_col.csv',sep=',')\n",
    "    dummy_new=dummy_new.reindex(columns = dum_col.columns, fill_value=0)\n",
    "    res=dummy_new.values\n",
    "    sc=load('rentwebapp\\std_scaler.bin')\n",
    "    new_res = sc.transform(res)\n",
    "    \n",
    "    laso_model=pickle.load(open('rentwebapp/model_new.pickle','rb'))\n",
    "    \n",
    "    pred_price=laso_model.predict(new_res)\n",
    "    pred_price=int(pred_price)\n",
    "    \n",
    "    return pred_price"
   ]
  }
 ],
 "metadata": {
  "kernelspec": {
   "display_name": "Python 3",
   "language": "python",
   "name": "python3"
  },
  "language_info": {
   "codemirror_mode": {
    "name": "ipython",
    "version": 3
   },
   "file_extension": ".py",
   "mimetype": "text/x-python",
   "name": "python",
   "nbconvert_exporter": "python",
   "pygments_lexer": "ipython3",
   "version": "3.7.4"
  }
 },
 "nbformat": 4,
 "nbformat_minor": 2
}
