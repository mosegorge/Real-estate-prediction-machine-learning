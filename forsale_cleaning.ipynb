{
 "cells": [
  {
   "cell_type": "markdown",
   "metadata": {},
   "source": [
    "## cleaning apartments posts for sale"
   ]
  },
  {
   "cell_type": "code",
   "execution_count": 1,
   "metadata": {},
   "outputs": [],
   "source": [
    "import pandas as pd\n",
    "import numpy as np\n",
    "import re\n",
    "\n",
    "from IPython.display import Image, display #for tree plot \n",
    "import pydotplus \n",
    "from scipy import misc\n",
    "\n",
    "import seaborn as sns\n",
    "import matplotlib as mpl\n",
    "from matplotlib import pyplot as plt\n",
    "%matplotlib inline\n",
    "plt.rcParams['figure.figsize'] = (10, 6)"
   ]
  },
  {
   "cell_type": "markdown",
   "metadata": {},
   "source": [
    "### import the data"
   ]
  },
  {
   "cell_type": "code",
   "execution_count": 2,
   "metadata": {},
   "outputs": [],
   "source": [
    "df=pd.read_csv('PATH TO FILE HERE',sep=',',low_memory=False)"
   ]
  },
  {
   "cell_type": "code",
   "execution_count": 14,
   "metadata": {},
   "outputs": [
    {
     "data": {
      "text/plain": [
       "(28777, 24)"
      ]
     },
     "execution_count": 14,
     "metadata": {},
     "output_type": "execute_result"
    }
   ],
   "source": [
    "df.shape"
   ]
  },
  {
   "cell_type": "markdown",
   "metadata": {},
   "source": [
    "### clean Nans"
   ]
  },
  {
   "cell_type": "code",
   "execution_count": 3,
   "metadata": {},
   "outputs": [],
   "source": [
    "df_cln_sale=df\n",
    "\n",
    "df_cln_sale['balcony'].fillna(0,inplace=True)\n",
    "df_cln_sale['building_floors'].fillna(0,inplace=True)\n",
    "df_cln_sale['sub_area'].fillna('לא צוין',inplace=True)\n",
    "df_cln_sale=df_cln_sale.drop(df_cln_sale.loc[:,list((100*(df_cln_sale.isnull().sum()/len(df_cln_sale.index))>40))].columns, 1)"
   ]
  },
  {
   "cell_type": "markdown",
   "metadata": {},
   "source": [
    "### drop undesire columns"
   ]
  },
  {
   "cell_type": "code",
   "execution_count": 4,
   "metadata": {},
   "outputs": [],
   "source": [
    "df_cln_sale=df_cln_sale.drop(df.columns[0], axis=1)\n",
    "df_cln_sale=df_cln_sale.drop(df.columns[9], axis=1)"
   ]
  },
  {
   "cell_type": "markdown",
   "metadata": {},
   "source": [
    "### change data types"
   ]
  },
  {
   "cell_type": "code",
   "execution_count": 5,
   "metadata": {},
   "outputs": [],
   "source": [
    "df_cln_sale['state_of_asset'].replace(['חדש מקבלן'],['חדש'],inplace=True)\n",
    "\n",
    "df_cln_sale=df_cln_sale.drop(df_cln_sale.index[df_cln_sale['rooms']=='-'])\n",
    "df_cln_sale['rooms']=df_cln_sale['rooms'].astype(np.float)\n",
    "\n",
    "df_cln_sale['floor'].replace(['קרקע'],0,inplace=True)\n",
    "df_cln_sale['floor']=df_cln_sale['floor'].astype(np.int64)\n",
    "\n",
    "df_cln_sale['size'].replace(['לא צוין'],None,inplace=True)\n",
    "df_cln_sale['size'].replace(['לא צוין'],df_cln_sale['size'].mean(),inplace=True)\n",
    "df_cln_sale['size']=df_cln_sale['size'].astype(np.int64)\n",
    "\n",
    "df_cln_sale['price'].replace(['לאצויןמחיר'],None,inplace=True)\n",
    "df_cln_sale['price'].replace(['לאצויןמחיר'],df_cln_sale['price'].mean(),inplace=True)\n",
    "df_cln_sale['price']=df_cln_sale['price'].astype(np.int64)\n",
    "\n",
    "df_cln_sale['balcony']=df_cln_sale['balcony'].astype(np.int64)\n",
    "\n",
    "df_cln_sale['parkings'].replace(['ללא'],0,inplace=True)\n",
    "df_cln_sale['parkings']=df_cln_sale['parkings'].astype(np.int64)\n",
    "\n",
    "df_cln_sale['date_update'] = pd.to_datetime(df_cln_sale['date_update'],dayfirst=True)"
   ]
  },
  {
   "cell_type": "code",
   "execution_count": 6,
   "metadata": {},
   "outputs": [],
   "source": [
    "#df_cln_sale['date_update'].value_counts()"
   ]
  },
  {
   "cell_type": "code",
   "execution_count": 7,
   "metadata": {},
   "outputs": [
    {
     "data": {
      "text/plain": [
       "adress                     object\n",
       "aprtment_type              object\n",
       "sub_area                   object\n",
       "city                       object\n",
       "rooms                     float64\n",
       "floor                       int64\n",
       "size                        int64\n",
       "price                       int64\n",
       "balcony                     int64\n",
       "building_floors           float64\n",
       "state_of_asset             object\n",
       "parkings                    int64\n",
       "is_aircon                   int64\n",
       "is_borderwin                int64\n",
       "is_elevator                 int64\n",
       "is_renovated                int64\n",
       "is_storeroom                int64\n",
       "is_furneter                 int64\n",
       "date_update        datetime64[ns]\n",
       "is_sold                     int64\n",
       "dtype: object"
      ]
     },
     "execution_count": 7,
     "metadata": {},
     "output_type": "execute_result"
    }
   ],
   "source": [
    "df_cln_sale.isna().sum()\n",
    "df_cln_sale.dtypes"
   ]
  },
  {
   "cell_type": "markdown",
   "metadata": {},
   "source": [
    "### outliers"
   ]
  },
  {
   "cell_type": "code",
   "execution_count": 8,
   "metadata": {},
   "outputs": [],
   "source": [
    "df_cln_sale=df_cln_sale[df_cln_sale['floor']<100]\n",
    "\n",
    "df_cln_sale.loc[df_cln_sale['size']>=5000]=np.nan\n",
    "df_cln_sale.loc[df_cln_sale['size']<=25]=np.nan\n",
    "df_cln_sale['size'].fillna(df_cln_sale['size'].median(),inplace=True)\n",
    "\n",
    "df_cln_sale=df_cln_sale[df_cln_sale['price']>=100000]\n",
    "df_cln_sale=df_cln_sale[df_cln_sale['price']<=20000000]"
   ]
  },
  {
   "cell_type": "code",
   "execution_count": 9,
   "metadata": {},
   "outputs": [],
   "source": [
    "#check what the range value of the outliers(with median and IQR)\n",
    "#score = (df_cln_sale['colname']-df_cln_sale['colname'].mean()) / df_cln_sale['colname'].std()\n",
    "#outliers = abs(score) > 3\n",
    "#sum(outliers)\n",
    "\n",
    "#Q1 = np.percentile(df_cln_sale['colname'], 25)\n",
    "#Q3 = np.percentile(df_cln_sale['colname'], 75)\n",
    "#IQR = Q3-Q1\n",
    "#price_outlier_rows = df_cln_sale[(df_cln_sale['colname'] < Q1 - 1.5*IQR) | (df_cln_sale['colname'] > Q3 + 1.5*IQR)].index\n",
    "#len(price_outlier_rows)\n",
    "#df_cln_sale.loc[price_outlier_rows]"
   ]
  },
  {
   "cell_type": "markdown",
   "metadata": {},
   "source": [
    "### fixing categorical features"
   ]
  },
  {
   "cell_type": "code",
   "execution_count": 10,
   "metadata": {},
   "outputs": [
    {
     "data": {
      "text/plain": [
       "דירה          18806\n",
       "פרטי/קוטג'     4497\n",
       "דירת גן        2047\n",
       "גג/פנטהאוז     1684\n",
       "דו משפחתי      1227\n",
       "יחידת דיור        8\n",
       "Name: aprtment_type, dtype: int64"
      ]
     },
     "execution_count": 10,
     "metadata": {},
     "output_type": "execute_result"
    }
   ],
   "source": [
    "df_cln_sale['aprtment_type'].value_counts()"
   ]
  },
  {
   "cell_type": "code",
   "execution_count": 11,
   "metadata": {},
   "outputs": [],
   "source": [
    "#clean less common cities (less than 20)\n",
    "temp=df_cln_sale['city'].value_counts()\n",
    "val_to_keep=temp.loc[temp>=20]\n",
    "df_cln_sale= df_cln_sale[df_cln_sale['city'].isin(val_to_keep.index.tolist())]"
   ]
  },
  {
   "cell_type": "code",
   "execution_count": 12,
   "metadata": {},
   "outputs": [
    {
     "data": {
      "text/plain": [
       "תל אביב יפו    2418\n",
       "ירושלים        1686\n",
       "חיפה           1507\n",
       "באר שבע        1352\n",
       "ראשון לציון     978\n",
       "               ... \n",
       "שלומי            24\n",
       "קרני שומרון      24\n",
       "כפר תבור         23\n",
       "כפר ורדים        23\n",
       "אבני חפץ         22\n",
       "Name: city, Length: 106, dtype: int64"
      ]
     },
     "execution_count": 12,
     "metadata": {},
     "output_type": "execute_result"
    }
   ],
   "source": [
    "df_cln_sale['city'].value_counts()"
   ]
  },
  {
   "cell_type": "code",
   "execution_count": 13,
   "metadata": {},
   "outputs": [
    {
     "data": {
      "text/plain": [
       "(27035, 20)"
      ]
     },
     "execution_count": 13,
     "metadata": {},
     "output_type": "execute_result"
    }
   ],
   "source": [
    "df_cln_sale.shape"
   ]
  },
  {
   "cell_type": "code",
   "execution_count": 13,
   "metadata": {},
   "outputs": [],
   "source": [
    "df_cln_sale.to_csv('forsale_clean.csv')"
   ]
  }
 ],
 "metadata": {
  "kernelspec": {
   "display_name": "Python 3",
   "language": "python",
   "name": "python3"
  },
  "language_info": {
   "codemirror_mode": {
    "name": "ipython",
    "version": 3
   },
   "file_extension": ".py",
   "mimetype": "text/x-python",
   "name": "python",
   "nbconvert_exporter": "python",
   "pygments_lexer": "ipython3",
   "version": "3.7.4"
  }
 },
 "nbformat": 4,
 "nbformat_minor": 2
}
