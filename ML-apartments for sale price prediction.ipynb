{
 "cells": [
  {
   "cell_type": "code",
   "execution_count": 5,
   "metadata": {},
   "outputs": [],
   "source": [
    "import pandas as pd\n",
    "import scipy as sc\n",
    "import numpy as np\n",
    "\n",
    "from sklearn.preprocessing import StandardScaler\n",
    "from sklearn.preprocessing import scale\n",
    "from sklearn.preprocessing import LabelEncoder\n",
    "from sklearn.model_selection import train_test_split\n",
    "\n",
    "from sklearn.linear_model import LinearRegression\n",
    "from sklearn.linear_model import Lasso\n",
    "from sklearn.ensemble import RandomForestRegressor\n",
    "\n",
    "from sklearn.metrics import r2_score\n",
    "\n",
    "import plotly.express as px\n",
    "import plotly.graph_objects as go\n",
    "import plotly.io as pio\n",
    "import seaborn as sns\n",
    "import matplotlib as mpl\n",
    "from matplotlib import pyplot as plt\n",
    "%matplotlib inline\n",
    "import warnings\n",
    "warnings.filterwarnings(\"ignore\")\n",
    "\n",
    "from sklearn.externals.joblib import dump, load\n",
    "import pickle\n",
    "#open a folder for app files\n",
    "import os\n",
    "if not os.path.exists(\"forsalewebapp\"):\n",
    "    os.mkdir(\"forsalewebapp\")"
   ]
  },
  {
   "cell_type": "markdown",
   "metadata": {},
   "source": [
    "### import forsale df"
   ]
  },
  {
   "cell_type": "code",
   "execution_count": 22,
   "metadata": {},
   "outputs": [],
   "source": [
    "forsale_df=pd.read_csv('PATH TO FILE HERE',sep=',',low_memory=False)"
   ]
  },
  {
   "cell_type": "code",
   "execution_count": 23,
   "metadata": {},
   "outputs": [],
   "source": [
    "##dropping unwanted cols for the ml \n",
    "forsale_df_ml=forsale_df.drop([\"Unnamed: 0\",\"adress\",\"sub_area\",'date_update','is_sold'], axis=1)\n",
    "repc=forsale_df_ml.pop('price')\n",
    "forsale_df_ml['price']=repc"
   ]
  },
  {
   "cell_type": "markdown",
   "metadata": {},
   "source": [
    "## Linear Regression model"
   ]
  },
  {
   "cell_type": "code",
   "execution_count": 24,
   "metadata": {},
   "outputs": [],
   "source": [
    "X =forsale_df_ml.drop(['price'],axis=1)\n",
    "y =forsale_df_ml['price']"
   ]
  },
  {
   "cell_type": "markdown",
   "metadata": {},
   "source": [
    "### Label encoding and feature scaling"
   ]
  },
  {
   "cell_type": "code",
   "execution_count": 25,
   "metadata": {},
   "outputs": [],
   "source": [
    "X = X.apply(LabelEncoder().fit_transform)"
   ]
  },
  {
   "cell_type": "code",
   "execution_count": 26,
   "metadata": {},
   "outputs": [],
   "source": [
    "cols=X.columns.tolist()\n",
    "for i in range(0, len(cols)):\n",
    "    X[cols[i]] = scale(X[cols[i]])"
   ]
  },
  {
   "cell_type": "markdown",
   "metadata": {},
   "source": [
    "### Modeling and scores"
   ]
  },
  {
   "cell_type": "code",
   "execution_count": 27,
   "metadata": {},
   "outputs": [],
   "source": [
    "X_train, X_test, y_train, y_test = train_test_split(X, y, random_state=42)"
   ]
  },
  {
   "cell_type": "code",
   "execution_count": 28,
   "metadata": {},
   "outputs": [],
   "source": [
    "linear_model = LinearRegression()\n",
    "\n",
    "linear_model.fit(X_train,y_train)\n",
    "\n",
    "y_pred = linear_model.predict(X_test)\n",
    "y_train_pred = linear_model.predict(X_train)"
   ]
  },
  {
   "cell_type": "code",
   "execution_count": 29,
   "metadata": {
    "scrolled": true
   },
   "outputs": [
    {
     "name": "stdout",
     "output_type": "stream",
     "text": [
      "r2 score with LinearRegression model\n",
      "Accuracy on training data:  0.3570794918768261\n",
      "Accuracy on test data:  0.34603899631907\n"
     ]
    }
   ],
   "source": [
    "print(\"r2 score with LinearRegression model\")\n",
    "print(\"Accuracy on training data: \" , r2_score(y_train, y_train_pred))\n",
    "print(\"Accuracy on test data: \", r2_score(y_test, y_pred))"
   ]
  },
  {
   "cell_type": "markdown",
   "metadata": {},
   "source": [
    "## Lasso model"
   ]
  },
  {
   "cell_type": "markdown",
   "metadata": {},
   "source": [
    "### label encoding and scaling for categorial featurs"
   ]
  },
  {
   "cell_type": "code",
   "execution_count": 30,
   "metadata": {},
   "outputs": [],
   "source": [
    "featurs =forsale_df_ml.drop(['price'],axis=1)"
   ]
  },
  {
   "cell_type": "code",
   "execution_count": 31,
   "metadata": {},
   "outputs": [],
   "source": [
    "##create dummies and combine \n",
    "combine_dummies = pd.get_dummies(featurs)\n",
    "result = combine_dummies.values"
   ]
  },
  {
   "cell_type": "code",
   "execution_count": 32,
   "metadata": {},
   "outputs": [],
   "source": [
    "scaler = StandardScaler()\n",
    "result = scaler.fit_transform(result)"
   ]
  },
  {
   "cell_type": "code",
   "execution_count": 33,
   "metadata": {},
   "outputs": [],
   "source": [
    "X= result[:forsale_df_ml.shape[0]]\n",
    "y=forsale_df_ml['price'].values"
   ]
  },
  {
   "cell_type": "markdown",
   "metadata": {},
   "source": [
    "### Modeling and scores"
   ]
  },
  {
   "cell_type": "code",
   "execution_count": 34,
   "metadata": {},
   "outputs": [],
   "source": [
    "X_train, X_test, y_train, y_test = train_test_split(X, y, random_state=15)"
   ]
  },
  {
   "cell_type": "code",
   "execution_count": 35,
   "metadata": {},
   "outputs": [],
   "source": [
    "lasso_model= Lasso()\n",
    "\n",
    "lasso_model.fit(X_train, y_train)\n",
    "\n",
    "y_pred = lasso_model.predict(X_test)\n",
    "y_train_pred = lasso_model.predict(X_train)"
   ]
  },
  {
   "cell_type": "code",
   "execution_count": 36,
   "metadata": {
    "scrolled": true
   },
   "outputs": [
    {
     "name": "stdout",
     "output_type": "stream",
     "text": [
      "r2 score with Lasso model\n",
      "Accuracy on training data:  0.6021581500789062\n",
      "Accuracy on test data:  0.632429764672518\n"
     ]
    }
   ],
   "source": [
    "print(\"r2 score with Lasso model\")\n",
    "print(\"Accuracy on training data: \" , r2_score(y_train, y_train_pred))\n",
    "print(\"Accuracy on test data: \", r2_score(y_test, y_pred))"
   ]
  },
  {
   "cell_type": "markdown",
   "metadata": {},
   "source": [
    "## Rendom Forest Regressor"
   ]
  },
  {
   "cell_type": "markdown",
   "metadata": {},
   "source": [
    "### Encoding categorial values"
   ]
  },
  {
   "cell_type": "code",
   "execution_count": 37,
   "metadata": {},
   "outputs": [],
   "source": [
    "featurs=forsale_df_ml.drop(['price'],axis=1)\n",
    "categ_col = [\"aprtment_type\", \"city\", \"state_of_asset\"]\n",
    "featurs_dum = pd.get_dummies(featurs, columns=categ_col)\n",
    "result=featurs_dum.values"
   ]
  },
  {
   "cell_type": "markdown",
   "metadata": {},
   "source": [
    "### scaling"
   ]
  },
  {
   "cell_type": "code",
   "execution_count": 38,
   "metadata": {},
   "outputs": [],
   "source": [
    "scaler = StandardScaler()\n",
    "origin_scale_rf=StandardScaler().fit(result)\n",
    "result = scaler.fit_transform(result)"
   ]
  },
  {
   "cell_type": "code",
   "execution_count": 39,
   "metadata": {},
   "outputs": [],
   "source": [
    "X=result[:forsale_df_ml.shape[0]]\n",
    "y=forsale_df_ml['price'].values"
   ]
  },
  {
   "cell_type": "markdown",
   "metadata": {},
   "source": [
    "### Hyperparameter tuning"
   ]
  },
  {
   "cell_type": "code",
   "execution_count": null,
   "metadata": {},
   "outputs": [],
   "source": [
    "from sklearn.model_selection import GridSearchCV\n",
    "\n",
    "param_grid = {\n",
    "    'bootstrap': [True],\n",
    "    'max_depth': [60, 70, 80, 90],\n",
    "    'max_features': ['auto'],\n",
    "    'min_samples_leaf': [2, 3, 4],\n",
    "    'min_samples_split': [2, 4, 6],\n",
    "    'n_estimators': [100, 144, 300, 600]\n",
    "    }\n",
    "rf = RandomForestRegressor()\n",
    "grid_search = GridSearchCV(estimator = rf, param_grid = param_grid, \n",
    "                          cv = 3, n_jobs = -1, verbose = 2)\n",
    "grid_search.fit(X_train,y_train)\n",
    "\n",
    "##grid_search.best_params_ result\n",
    "#   {'bootstrap': True,\n",
    "#    'max_depth': 70,\n",
    "#    'max_features': 'auto',\n",
    "#    'min_samples_leaf': 2,\n",
    "#    'min_samples_split': 4,\n",
    "#    'n_estimators': 144}"
   ]
  },
  {
   "cell_type": "markdown",
   "metadata": {},
   "source": [
    "### Modeling and scores"
   ]
  },
  {
   "cell_type": "code",
   "execution_count": 40,
   "metadata": {},
   "outputs": [],
   "source": [
    "X_train, X_test, y_train, y_test = train_test_split(X, y, random_state=42)"
   ]
  },
  {
   "cell_type": "code",
   "execution_count": 41,
   "metadata": {},
   "outputs": [
    {
     "name": "stdout",
     "output_type": "stream",
     "text": [
      "r2 score with RendomForestReg model\n",
      "Accuracy on training data:  0.7668810226203149\n",
      "Accuracy on test data:  0.6923211575366653\n"
     ]
    }
   ],
   "source": [
    "#rf_model=grid_search.best_estimator_\n",
    "rf_model=RandomForestRegressor(bootstrap= True,max_depth=15,max_features=16,min_samples_leaf=2,min_samples_split= 2,n_estimators=144)\n",
    "rf_model.fit(X_train,y_train)\n",
    "\n",
    "y_pred = rf_model.predict(X_test)\n",
    "y_train_pred = rf_model.predict(X_train)\n",
    "\n",
    "print(\"r2 score with RendomForestReg model\")\n",
    "print(\"Accuracy on training data: \" , r2_score(y_train, y_train_pred))\n",
    "print(\"Accuracy on test data: \", r2_score(y_test, y_pred))"
   ]
  },
  {
   "cell_type": "markdown",
   "metadata": {},
   "source": [
    "### Add BEST (randomforestreg) predicted prices to original df"
   ]
  },
  {
   "cell_type": "code",
   "execution_count": 42,
   "metadata": {},
   "outputs": [],
   "source": [
    "final_labels = rf_model.predict(X)\n",
    "final_result = pd.DataFrame({'salePrice': final_labels})"
   ]
  },
  {
   "cell_type": "code",
   "execution_count": 43,
   "metadata": {},
   "outputs": [],
   "source": [
    "forsale_df_ml[\"predicted price\"]=final_result['salePrice']"
   ]
  },
  {
   "cell_type": "code",
   "execution_count": 44,
   "metadata": {},
   "outputs": [
    {
     "name": "stdout",
     "output_type": "stream",
     "text": [
      "True prices average: 2312463.95\n",
      "Predicted prices average: 2314699.45\n"
     ]
    }
   ],
   "source": [
    "price_avg=forsale_df_ml[\"price\"].mean()\n",
    "pred_price_avg=forsale_df_ml[\"predicted price\"].mean()\n",
    "\n",
    "print(\"True prices average:\",round(price_avg,2))\n",
    "print(\"Predicted prices average:\",round(pred_price_avg,2))"
   ]
  },
  {
   "cell_type": "markdown",
   "metadata": {},
   "source": [
    "### web app"
   ]
  },
  {
   "cell_type": "code",
   "execution_count": 45,
   "metadata": {},
   "outputs": [],
   "source": [
    "#saving nessecry files for app\n",
    "pickle.dump(rf_model,open(\"forsalewebapp/model_new_forsale.pickle\", 'wb'))\n",
    "\n",
    "dump(origin_scale_rf, 'forsalewebapp/std_scaler_forsale.bin', compress=True)\n",
    "\n",
    "tmpdummies=featurs_dum[:1]\n",
    "tmpdummies.to_csv('forsalewebapp\\dum_col_forsale.csv', index = False)"
   ]
  },
  {
   "cell_type": "code",
   "execution_count": 4,
   "metadata": {},
   "outputs": [],
   "source": [
    "import anvil.server\n",
    "\n",
    "anvil.server.connect('KEY CODE TO SERVER')"
   ]
  },
  {
   "cell_type": "code",
   "execution_count": 6,
   "metadata": {},
   "outputs": [],
   "source": [
    "@anvil.server.callable\n",
    "def predict_forsale(aprtment_type, city, rooms, floor, size, balcony,\n",
    "       building_floors, state_of_asset, parkings, is_aircon,\n",
    "       is_borderwin, is_elevator, is_renovated, is_storeroom,\n",
    "       is_furneter):\n",
    "    tmpdf={\"aprtment_type\":aprtment_type,\n",
    "           \"city\":city,\n",
    "           \"rooms\":rooms,\n",
    "           \"floor\":floor,\n",
    "           \"size\":size,\n",
    "           \"balcony\":balcony,\n",
    "           \"building_floors\":building_floors,\n",
    "           \"state_of_asset\":state_of_asset,\n",
    "           \"parkings\":parkings,\n",
    "           \"is_aircon\":int(is_aircon),\n",
    "           \"is_borderwin\":int(is_borderwin),\n",
    "           \"is_elevator\":int(is_elevator),\n",
    "           \"is_renovated\":int(is_renovated),\n",
    "           \"is_storeroom\":int(is_storeroom),\n",
    "           \"is_furneter\":int(is_furneter)\n",
    "          }\n",
    "    tmpdf=pd.DataFrame(tmpdf, index=[0])\n",
    "    \n",
    "    dummy_new = pd.get_dummies(tmpdf)\n",
    "    dum_col=pd.read_csv('forsalewebapp\\dum_col_forsale.csv',sep=',')\n",
    "    dummy_new=dummy_new.reindex(columns = dum_col.columns, fill_value=0)\n",
    "    res=dummy_new.values\n",
    "    sc=load('forsalewebapp\\std_scaler_forsale.bin')\n",
    "    new_res = sc.transform(res)\n",
    "    \n",
    "    laso_model=pickle.load(open('forsalewebapp/model_new_forsale.pickle','rb'))\n",
    "    \n",
    "    pred_price=laso_model.predict(new_res)\n",
    "    pred_price=int(pred_price)\n",
    "    \n",
    "    return pred_price"
   ]
  }
 ],
 "metadata": {
  "kernelspec": {
   "display_name": "Python 3",
   "language": "python",
   "name": "python3"
  },
  "language_info": {
   "codemirror_mode": {
    "name": "ipython",
    "version": 3
   },
   "file_extension": ".py",
   "mimetype": "text/x-python",
   "name": "python",
   "nbconvert_exporter": "python",
   "pygments_lexer": "ipython3",
   "version": "3.7.4"
  }
 },
 "nbformat": 4,
 "nbformat_minor": 2
}
